{
 "cells": [
  {
   "cell_type": "code",
   "execution_count": 1,
   "metadata": {},
   "outputs": [],
   "source": [
    "import pickle\n",
    "import pandas as pd\n",
    "from pathlib import Path\n",
    "import structlog\n",
    "import matplotlib.pyplot as plt\n",
    "from ml_assemblr.main_components.data_pod import DataPod\n",
    "from ml_assemblr.main_components.data_pod_list import DataPodList\n",
    "from home_credit_helper.config import cfg, cfg_small_dataset\n",
    "from home_credit_helper.constant import *\n",
    "from ml_assemblr.utils.logging.setup_logging import setup_logging\n",
    "import warnings\n",
    "\n",
    "warnings.filterwarnings(\"ignore\", category=Warning)"
   ]
  },
  {
   "cell_type": "code",
   "execution_count": 2,
   "metadata": {},
   "outputs": [],
   "source": [
    "setup_logging(is_pretty_render=True)\n",
    "# cfg = cfg_small_dataset\n",
    "del cfg_small_dataset"
   ]
  },
  {
   "cell_type": "code",
   "execution_count": 3,
   "metadata": {},
   "outputs": [],
   "source": [
    "from ml_assemblr.transfromer.column_type.features_setter import TopDownFeaturesSetter\n",
    "from ml_assemblr.transfromer.model.xgb_model import XGBModel, get_xgb_config"
   ]
  },
  {
   "cell_type": "code",
   "execution_count": 4,
   "metadata": {},
   "outputs": [],
   "source": [
    "from home_credit_helper.evaluation.main import evaluation"
   ]
  },
  {
   "cell_type": "code",
   "execution_count": 5,
   "metadata": {},
   "outputs": [],
   "source": [
    "import xgboost as xgb\n",
    "import optuna"
   ]
  },
  {
   "cell_type": "code",
   "execution_count": 6,
   "metadata": {},
   "outputs": [],
   "source": [
    "pd.set_option(\"display.max_columns\", None)"
   ]
  },
  {
   "cell_type": "code",
   "execution_count": 7,
   "metadata": {},
   "outputs": [],
   "source": [
    "with open(cfg.research_cache_path / \"03_dp.pkl\", \"rb\") as f:\n",
    "    dp: DataPod = pickle.load(f)"
   ]
  },
  {
   "cell_type": "markdown",
   "metadata": {},
   "source": [
    "# Recursive Feature Elimination Method"
   ]
  },
  {
   "cell_type": "code",
   "execution_count": 8,
   "metadata": {},
   "outputs": [],
   "source": [
    "feature_setters = TopDownFeaturesSetter()\n",
    "dp = dp.fit_transform(feature_setters)"
   ]
  },
  {
   "cell_type": "code",
   "execution_count": 9,
   "metadata": {},
   "outputs": [],
   "source": [
    "from ml_assemblr.transfromer.cross_validator.cross_validator import CrossValidator\n",
    "from sklearn.model_selection import ShuffleSplit"
   ]
  },
  {
   "cell_type": "markdown",
   "metadata": {},
   "source": [
    "## Train with full features"
   ]
  },
  {
   "cell_type": "code",
   "execution_count": 10,
   "metadata": {},
   "outputs": [],
   "source": [
    "cross_validator = CrossValidator(sklearn_cv=ShuffleSplit(n_splits=3, test_size=0.2, random_state=42))\n",
    "dp = dp.fit_transform(cross_validator)"
   ]
  },
  {
   "cell_type": "code",
   "execution_count": 11,
   "metadata": {},
   "outputs": [],
   "source": [
    "optuna_study_path = f\"sqlite:///{cfg.research_cache_path / \"optuna_studies.db\"}\"\n",
    "\n",
    "study = optuna.load_study(\n",
    "    study_name=\"xgb-hyperparam-tuning-full-features\", storage=optuna_study_path\n",
    ")\n",
    "xgb_config = get_xgb_config(study)\n",
    "\n",
    "dp_untrain = dp.copy()\n",
    "cv_count = len(dp.variables[\"cv_idx_map\"]['cv_split_idx_in_column_type'])\n",
    "\n",
    "for i in range(cv_count):\n",
    "    xgb_model = XGBModel(**xgb_config, fit_on_split=\"train\", cv_idx=i)\n",
    "    dp: DataPod = dp.fit_transform(xgb_model)\n",
    "dp = evaluation(dp, \"auroc_valid\")"
   ]
  },
  {
   "cell_type": "code",
   "execution_count": 12,
   "metadata": {},
   "outputs": [
    {
     "data": {
      "text/html": [
       "<div>\n",
       "<style scoped>\n",
       "    .dataframe tbody tr th:only-of-type {\n",
       "        vertical-align: middle;\n",
       "    }\n",
       "\n",
       "    .dataframe tbody tr th {\n",
       "        vertical-align: top;\n",
       "    }\n",
       "\n",
       "    .dataframe thead th {\n",
       "        text-align: right;\n",
       "    }\n",
       "</style>\n",
       "<table border=\"1\" class=\"dataframe\">\n",
       "  <thead>\n",
       "    <tr style=\"text-align: right;\">\n",
       "      <th></th>\n",
       "      <th>metric</th>\n",
       "      <th>value_cv_0</th>\n",
       "      <th>value_cv_1</th>\n",
       "      <th>value_cv_2</th>\n",
       "      <th>value_mean</th>\n",
       "      <th>value_std</th>\n",
       "    </tr>\n",
       "  </thead>\n",
       "  <tbody>\n",
       "    <tr>\n",
       "      <th>0</th>\n",
       "      <td>auroc_train</td>\n",
       "      <td>0.813549</td>\n",
       "      <td>0.814954</td>\n",
       "      <td>0.815230</td>\n",
       "      <td>0.814578</td>\n",
       "      <td>0.000736</td>\n",
       "    </tr>\n",
       "    <tr>\n",
       "      <th>1</th>\n",
       "      <td>auroc_valid</td>\n",
       "      <td>0.771960</td>\n",
       "      <td>0.768394</td>\n",
       "      <td>0.772363</td>\n",
       "      <td>0.770906</td>\n",
       "      <td>0.001784</td>\n",
       "    </tr>\n",
       "    <tr>\n",
       "      <th>2</th>\n",
       "      <td>auroc_test</td>\n",
       "      <td>0.769847</td>\n",
       "      <td>0.769216</td>\n",
       "      <td>0.772387</td>\n",
       "      <td>0.770483</td>\n",
       "      <td>0.001371</td>\n",
       "    </tr>\n",
       "  </tbody>\n",
       "</table>\n",
       "</div>"
      ],
      "text/plain": [
       "        metric  value_cv_0  value_cv_1  value_cv_2  value_mean  value_std\n",
       "0  auroc_train    0.813549    0.814954    0.815230    0.814578   0.000736\n",
       "1  auroc_valid    0.771960    0.768394    0.772363    0.770906   0.001784\n",
       "2   auroc_test    0.769847    0.769216    0.772387    0.770483   0.001371"
      ]
     },
     "execution_count": 12,
     "metadata": {},
     "output_type": "execute_result"
    }
   ],
   "source": [
    "dp.variables[\"evaluation\"]['df_evaluation']"
   ]
  },
  {
   "cell_type": "code",
   "execution_count": 13,
   "metadata": {},
   "outputs": [
    {
     "data": {
      "text/plain": [
       "0.7709055277108945"
      ]
     },
     "execution_count": 13,
     "metadata": {},
     "output_type": "execute_result"
    }
   ],
   "source": [
    "auroc_full = dp.variables[\"evaluation\"][\"objective_auroc_valid\"]\n",
    "auroc_full"
   ]
  },
  {
   "cell_type": "markdown",
   "metadata": {},
   "source": [
    "## Estimate features importance and recursive elimination"
   ]
  },
  {
   "cell_type": "code",
   "execution_count": 14,
   "metadata": {},
   "outputs": [
    {
     "data": {
      "text/html": [
       "<div>\n",
       "<style scoped>\n",
       "    .dataframe tbody tr th:only-of-type {\n",
       "        vertical-align: middle;\n",
       "    }\n",
       "\n",
       "    .dataframe tbody tr th {\n",
       "        vertical-align: top;\n",
       "    }\n",
       "\n",
       "    .dataframe thead th {\n",
       "        text-align: right;\n",
       "    }\n",
       "</style>\n",
       "<table border=\"1\" class=\"dataframe\">\n",
       "  <thead>\n",
       "    <tr style=\"text-align: right;\">\n",
       "      <th></th>\n",
       "      <th>feature</th>\n",
       "      <th>value_cv_0</th>\n",
       "      <th>value_cv_1</th>\n",
       "      <th>value_cv_2</th>\n",
       "      <th>value_mean</th>\n",
       "      <th>value_std</th>\n",
       "    </tr>\n",
       "  </thead>\n",
       "  <tbody>\n",
       "    <tr>\n",
       "      <th>106</th>\n",
       "      <td>DAYS_EMPLOYED_PERC</td>\n",
       "      <td>2.442636</td>\n",
       "      <td>2.513462</td>\n",
       "      <td>2.980253</td>\n",
       "      <td>2.645451</td>\n",
       "      <td>0.238500</td>\n",
       "    </tr>\n",
       "    <tr>\n",
       "      <th>6</th>\n",
       "      <td>AMT_GOODS_PRICE</td>\n",
       "      <td>2.888752</td>\n",
       "      <td>3.225366</td>\n",
       "      <td>2.144814</td>\n",
       "      <td>2.752977</td>\n",
       "      <td>0.451460</td>\n",
       "    </tr>\n",
       "    <tr>\n",
       "      <th>29</th>\n",
       "      <td>EXT_SOURCE_1</td>\n",
       "      <td>3.314415</td>\n",
       "      <td>3.437728</td>\n",
       "      <td>3.161301</td>\n",
       "      <td>3.304482</td>\n",
       "      <td>0.113069</td>\n",
       "    </tr>\n",
       "    <tr>\n",
       "      <th>31</th>\n",
       "      <td>EXT_SOURCE_3</td>\n",
       "      <td>6.730995</td>\n",
       "      <td>7.027716</td>\n",
       "      <td>6.996282</td>\n",
       "      <td>6.918331</td>\n",
       "      <td>0.133087</td>\n",
       "    </tr>\n",
       "    <tr>\n",
       "      <th>30</th>\n",
       "      <td>EXT_SOURCE_2</td>\n",
       "      <td>7.579769</td>\n",
       "      <td>7.352978</td>\n",
       "      <td>7.559937</td>\n",
       "      <td>7.497561</td>\n",
       "      <td>0.102556</td>\n",
       "    </tr>\n",
       "  </tbody>\n",
       "</table>\n",
       "</div>"
      ],
      "text/plain": [
       "                feature  value_cv_0  value_cv_1  value_cv_2  value_mean  \\\n",
       "106  DAYS_EMPLOYED_PERC    2.442636    2.513462    2.980253    2.645451   \n",
       "6       AMT_GOODS_PRICE    2.888752    3.225366    2.144814    2.752977   \n",
       "29         EXT_SOURCE_1    3.314415    3.437728    3.161301    3.304482   \n",
       "31         EXT_SOURCE_3    6.730995    7.027716    6.996282    6.918331   \n",
       "30         EXT_SOURCE_2    7.579769    7.352978    7.559937    7.497561   \n",
       "\n",
       "     value_std  \n",
       "106   0.238500  \n",
       "6     0.451460  \n",
       "29    0.113069  \n",
       "31    0.133087  \n",
       "30    0.102556  "
      ]
     },
     "execution_count": 14,
     "metadata": {},
     "output_type": "execute_result"
    }
   ],
   "source": [
    "df_shap_importance: pd.DataFrame = dp.variables[\"evaluation\"][\"agg_shap_results\"]['df_shap_importance_valid']\n",
    "df_shap_importance = df_shap_importance.sort_values(\"value_mean\", ascending=True)\n",
    "\n",
    "# top 5 important features\n",
    "df_shap_importance.tail(5)"
   ]
  },
  {
   "cell_type": "code",
   "execution_count": 15,
   "metadata": {},
   "outputs": [
    {
     "data": {
      "image/png": "[encoded data removed]",
      "text/plain": [
       "<Figure size 640x480 with 1 Axes>"
      ]
     },
     "metadata": {},
     "output_type": "display_data"
    }
   ],
   "source": [
    "# feature importance distribution\n",
    "\n",
    "df_shap_importance['value_mean'].hist(bins=30)\n",
    "plt.yscale('log')\n",
    "plt.xlabel('Value Means')\n",
    "plt.ylabel('Frequency')\n",
    "plt.title('Feature Importance Distribution')\n",
    "plt.show()"
   ]
  },
  {
   "cell_type": "code",
   "execution_count": 16,
   "metadata": {},
   "outputs": [],
   "source": [
    "# config feature elimination process\n",
    "total_original_features_count = df_shap_importance.shape[0]\n",
    "\n",
    "feature_names = list(df_shap_importance[df_shap_importance[\"value_mean\"] != 0][\"feature\"])\n",
    "low_important_feature_count = total_original_features_count - len(feature_names)\n",
    "current_feature_names = feature_names[:]\n",
    "\n",
    "feature_names = [\"first_loop\"] + feature_names + [\"last_loop\"]\n",
    "\n",
    "metric_tolerance = 0.0005"
   ]
  },
  {
   "cell_type": "code",
   "execution_count": 17,
   "metadata": {},
   "outputs": [],
   "source": [
    "feature_selection_states = {\n",
    "  \"dp_untrain\": dp_untrain,\n",
    "  \"feature_names\": feature_names,\n",
    "  \"current_feature_names\": current_feature_names,\n",
    "  \"low_important_feature_count\": low_important_feature_count,\n",
    "  \"metric_tolerance\": metric_tolerance,\n",
    "  \"total_original_features_count\": total_original_features_count,\n",
    "  \"xgb_config\": xgb_config,\n",
    "  \"auroc_full\": auroc_full,\n",
    "}"
   ]
  },
  {
   "cell_type": "code",
   "execution_count": 18,
   "metadata": {},
   "outputs": [],
   "source": [
    "with open(cfg.research_cache_path / \"05_feature_selection_states.pkl\", \"wb\") as f:\n",
    "    pickle.dump(feature_selection_states, f)"
   ]
  },
  {
   "cell_type": "code",
   "execution_count": 19,
   "metadata": {},
   "outputs": [
    {
     "ename": "RuntimeError",
     "evalue": "No active exception to reraise",
     "output_type": "error",
     "traceback": [
      "\u001b[1;31m---------------------------------------------------------------------------\u001b[0m",
      "\u001b[1;31mRuntimeError\u001b[0m                              Traceback (most recent call last)",
      "Cell \u001b[1;32mIn[19], line 1\u001b[0m\n\u001b[1;32m----> 1\u001b[0m \u001b[38;5;28;01mraise\u001b[39;00m\n",
      "\u001b[1;31mRuntimeError\u001b[0m: No active exception to reraise"
     ]
    }
   ],
   "source": [
    "raise"
   ]
  },
  {
   "cell_type": "code",
   "execution_count": null,
   "metadata": {},
   "outputs": [],
   "source": []
  }
 ],
 "metadata": {
  "kernelspec": {
   "display_name": "kaggle-home-credit-default-risk",
   "language": "python",
   "name": "python3"
  },
  "language_info": {
   "codemirror_mode": {
    "name": "ipython",
    "version": 3
   },
   "file_extension": ".py",
   "mimetype": "text/x-python",
   "name": "python",
   "nbconvert_exporter": "python",
   "pygments_lexer": "ipython3",
   "version": "3.12.2"
  }
 },
 "nbformat": 4,
 "nbformat_minor": 2
}
